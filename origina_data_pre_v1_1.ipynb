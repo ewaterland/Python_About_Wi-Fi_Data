{
  "cells": [
    {
      "cell_type": "markdown",
      "metadata": {
        "id": "view-in-github",
        "colab_type": "text"
      },
      "source": [
        "<a href=\"https://colab.research.google.com/github/ewaterland/Wi-Fi_Data_Pre-processing/blob/main/origina_data_pre_v1_1.ipynb\" target=\"_parent\"><img src=\"https://colab.research.google.com/assets/colab-badge.svg\" alt=\"Open In Colab\"/></a>"
      ]
    },
    {
      "cell_type": "markdown",
      "source": [
        "* original 파일은 원본 파일을 의미합니다.\n",
        "* org_temp 파일은 원본 파일의 불필요한 행을 제거 한 뒤 임의로 저장한 파일을 의미합니다.\n",
        "* data 파일은 org_temp파일에서 이동 평균 필터를 적용한 파일을 의미합니다.\n",
        "* sorted_data 파일은 이동평균필터가 적용된 데이터의 각 열의 값에 대한 평균을 낸 뒤, 값이 큰 순서대로 정렬했습니다."
      ],
      "metadata": {
        "id": "sAIU1vCjMywR"
      },
      "id": "sAIU1vCjMywR"
    },
    {
      "cell_type": "markdown",
      "source": [
        "## import"
      ],
      "metadata": {
        "id": "KRX8vkRPw1R5"
      },
      "id": "KRX8vkRPw1R5"
    },
    {
      "cell_type": "code",
      "execution_count": 76,
      "id": "0ecaf327",
      "metadata": {
        "id": "0ecaf327"
      },
      "outputs": [],
      "source": [
        "# 라이브러리 임포트\n",
        "import os\n",
        "import csv\n",
        "import pandas as pd\n",
        "import matplotlib.pyplot as plt"
      ]
    },
    {
      "cell_type": "code",
      "source": [
        "from google.colab import drive\n",
        "drive.mount('/content/drive')"
      ],
      "metadata": {
        "colab": {
          "base_uri": "https://localhost:8080/"
        },
        "id": "wzjqw5RCVYao",
        "outputId": "da5a22b9-ad26-4812-a880-541d3dfa0000"
      },
      "execution_count": 104,
      "outputs": [
        {
          "output_type": "stream",
          "name": "stdout",
          "text": [
            "Drive already mounted at /content/drive; to attempt to forcibly remount, call drive.mount(\"/content/drive\", force_remount=True).\n"
          ]
        }
      ],
      "id": "wzjqw5RCVYao"
    },
    {
      "cell_type": "markdown",
      "source": [
        "# ★ 데이터를 구별할 수 있는 **위치 정보, 데이터 수집 날짜, 버전** 입력 ★"
      ],
      "metadata": {
        "id": "bbqWwnTJGfCV"
      },
      "id": "bbqWwnTJGfCV"
    },
    {
      "cell_type": "code",
      "source": [
        "temp = \"8th\""
      ],
      "metadata": {
        "id": "TDgA__SEGRNU"
      },
      "execution_count": 77,
      "outputs": [],
      "id": "TDgA__SEGRNU"
    },
    {
      "cell_type": "code",
      "source": [
        "date = \"230916\""
      ],
      "metadata": {
        "id": "sLla5KTMMBZg"
      },
      "execution_count": 78,
      "outputs": [],
      "id": "sLla5KTMMBZg"
    },
    {
      "cell_type": "code",
      "source": [
        "ver = \"v005\""
      ],
      "metadata": {
        "id": "N3KTwK60JPbT"
      },
      "execution_count": 79,
      "outputs": [],
      "id": "N3KTwK60JPbT"
    },
    {
      "cell_type": "code",
      "source": [
        "buffer = '5'"
      ],
      "metadata": {
        "id": "UxUWpPGvKQoR"
      },
      "id": "UxUWpPGvKQoR",
      "execution_count": 80,
      "outputs": []
    },
    {
      "cell_type": "code",
      "source": [
        "#sign = \"/pos\"\n",
        "sign = \"/neg\"\n",
        "#sign = \"\"\n",
        "\n",
        "#sep = \"/구간1\"\n",
        "sep = \"/구간2\"\n",
        "#sep = \"\""
      ],
      "metadata": {
        "id": "lyoVxahMKEYf"
      },
      "id": "lyoVxahMKEYf",
      "execution_count": 98,
      "outputs": []
    },
    {
      "cell_type": "code",
      "source": [
        "data = 0  # Offline"
      ],
      "metadata": {
        "id": "q9I-sZb8biIf"
      },
      "id": "q9I-sZb8biIf",
      "execution_count": 102,
      "outputs": []
    },
    {
      "cell_type": "code",
      "source": [
        "data = 1  # Online"
      ],
      "metadata": {
        "id": "PYpHiGBKbjT1"
      },
      "id": "PYpHiGBKbjT1",
      "execution_count": 82,
      "outputs": []
    },
    {
      "cell_type": "markdown",
      "source": [
        "## path"
      ],
      "metadata": {
        "id": "hhpReZm4w2Yo"
      },
      "id": "hhpReZm4w2Yo"
    },
    {
      "cell_type": "code",
      "source": [
        "# Offline: 0 / Online: 1\n",
        "\n",
        "data = 1\n",
        "\n",
        "print(\"data: %d\" % data)\n",
        "\n",
        "path = \"/content/drive/MyDrive/2023_CD/[자료] Wi-Fi/Collected Data/\"\n",
        "path_temp = path + date + \" \" + temp + \"/\"         # ex. 230703 MIPL/\n",
        "\n",
        "if data == 0:\n",
        "  offline_path = path_temp + \"Offline Data/\"\n",
        "  path = offline_path\n",
        "  data_type = \"_offline\"\n",
        "elif data == 1:\n",
        "  online_path = path_temp + \"Online Data/\"\n",
        "  path = online_path\n",
        "  data_type = \"_online\""
      ],
      "metadata": {
        "id": "BcMT2GFny1Xl",
        "colab": {
          "base_uri": "https://localhost:8080/"
        },
        "outputId": "948ebfb6-25b6-4ff0-f97c-1cdf1d5943af"
      },
      "execution_count": 111,
      "outputs": [
        {
          "output_type": "stream",
          "name": "stdout",
          "text": [
            "data: 1\n"
          ]
        }
      ],
      "id": "BcMT2GFny1Xl"
    },
    {
      "cell_type": "markdown",
      "source": [
        "# Moving Avg Filter"
      ],
      "metadata": {
        "id": "FRPX22TtwkCc"
      },
      "id": "FRPX22TtwkCc"
    },
    {
      "cell_type": "markdown",
      "id": "ac98c0ca",
      "metadata": {
        "id": "ac98c0ca"
      },
      "source": [
        "### 오리지널 데이터 셋에서 불필요한 열 제거\n",
        "* BT, BY, BZ, Timestamp 열을 제거합니다."
      ]
    },
    {
      "cell_type": "code",
      "execution_count": 112,
      "id": "6b6aa4a7",
      "metadata": {
        "id": "6b6aa4a7",
        "outputId": "a2a3b44b-2e84-4b22-e1ad-e13ffa38077e",
        "colab": {
          "base_uri": "https://localhost:8080/"
        }
      },
      "outputs": [
        {
          "output_type": "stream",
          "name": "stdout",
          "text": [
            "file_path: /content/drive/MyDrive/2023_CD/[자료] Wi-Fi/Collected Data/230916 8th/Online Data/Original/neg/0.625,-34.2.csv\n",
            "0.625,-34.2.csv 전처리 완료. 저장 경로: /content/drive/MyDrive/2023_CD/[자료] Wi-Fi/Collected Data/230916 8th/Online Data/Moving Avg Filter_BF 5/neg/temp/0.625,-34.2.csv\n",
            "file_path: /content/drive/MyDrive/2023_CD/[자료] Wi-Fi/Collected Data/230916 8th/Online Data/Original/neg/0.625,-30.8.csv\n",
            "0.625,-30.8.csv 전처리 완료. 저장 경로: /content/drive/MyDrive/2023_CD/[자료] Wi-Fi/Collected Data/230916 8th/Online Data/Moving Avg Filter_BF 5/neg/temp/0.625,-30.8.csv\n",
            "file_path: /content/drive/MyDrive/2023_CD/[자료] Wi-Fi/Collected Data/230916 8th/Online Data/Original/neg/0.625,-22.csv\n",
            "0.625,-22.csv 전처리 완료. 저장 경로: /content/drive/MyDrive/2023_CD/[자료] Wi-Fi/Collected Data/230916 8th/Online Data/Moving Avg Filter_BF 5/neg/temp/0.625,-22.csv\n",
            "file_path: /content/drive/MyDrive/2023_CD/[자료] Wi-Fi/Collected Data/230916 8th/Online Data/Original/neg/0.625,-36.5.csv\n",
            "0.625,-36.5.csv 전처리 완료. 저장 경로: /content/drive/MyDrive/2023_CD/[자료] Wi-Fi/Collected Data/230916 8th/Online Data/Moving Avg Filter_BF 5/neg/temp/0.625,-36.5.csv\n",
            "file_path: /content/drive/MyDrive/2023_CD/[자료] Wi-Fi/Collected Data/230916 8th/Online Data/Original/neg/0.625,-24.csv\n",
            "0.625,-24.csv 전처리 완료. 저장 경로: /content/drive/MyDrive/2023_CD/[자료] Wi-Fi/Collected Data/230916 8th/Online Data/Moving Avg Filter_BF 5/neg/temp/0.625,-24.csv\n",
            "file_path: /content/drive/MyDrive/2023_CD/[자료] Wi-Fi/Collected Data/230916 8th/Online Data/Original/neg/0.625,-27.2.csv\n",
            "0.625,-27.2.csv 전처리 완료. 저장 경로: /content/drive/MyDrive/2023_CD/[자료] Wi-Fi/Collected Data/230916 8th/Online Data/Moving Avg Filter_BF 5/neg/temp/0.625,-27.2.csv\n",
            "file_path: /content/drive/MyDrive/2023_CD/[자료] Wi-Fi/Collected Data/230916 8th/Online Data/Original/neg/0.625,-18.csv\n",
            "0.625,-18.csv 전처리 완료. 저장 경로: /content/drive/MyDrive/2023_CD/[자료] Wi-Fi/Collected Data/230916 8th/Online Data/Moving Avg Filter_BF 5/neg/temp/0.625,-18.csv\n",
            "file_path: /content/drive/MyDrive/2023_CD/[자료] Wi-Fi/Collected Data/230916 8th/Online Data/Original/neg/0.625,-10.csv\n",
            "0.625,-10.csv 전처리 완료. 저장 경로: /content/drive/MyDrive/2023_CD/[자료] Wi-Fi/Collected Data/230916 8th/Online Data/Moving Avg Filter_BF 5/neg/temp/0.625,-10.csv\n",
            "file_path: /content/drive/MyDrive/2023_CD/[자료] Wi-Fi/Collected Data/230916 8th/Online Data/Original/neg/0.625,-13.8.csv\n",
            "0.625,-13.8.csv 전처리 완료. 저장 경로: /content/drive/MyDrive/2023_CD/[자료] Wi-Fi/Collected Data/230916 8th/Online Data/Moving Avg Filter_BF 5/neg/temp/0.625,-13.8.csv\n",
            "file_path: /content/drive/MyDrive/2023_CD/[자료] Wi-Fi/Collected Data/230916 8th/Online Data/Original/neg/0.625,-7.csv\n",
            "0.625,-7.csv 전처리 완료. 저장 경로: /content/drive/MyDrive/2023_CD/[자료] Wi-Fi/Collected Data/230916 8th/Online Data/Moving Avg Filter_BF 5/neg/temp/0.625,-7.csv\n"
          ]
        }
      ],
      "source": [
        "# 데이터 파일 경로 설정\n",
        "original_path = path + 'Original' + sign    # 원본 파일 경로\n",
        "#temp_folder = temp_folder = path + 'Moving Avg Filter_BF ' + buffer + '/temp/'  # 중간과정을 저장할 폴더 경로\n",
        "temp_folder = path + 'Moving Avg Filter_BF ' + buffer + sign + '/temp/'  # 중간과정을 저장할 폴더 경로\n",
        "\n",
        "# output_folder 저장할 폴더가 없으면 생성\n",
        "if not os.path.exists(temp_folder):\n",
        "    os.makedirs(temp_folder)\n",
        "\n",
        "# 폴더 안의 모든 파일에 대해 전처리 수행 및 저장\n",
        "for file_name in os.listdir(original_path):\n",
        "    # 파일 경로 생성\n",
        "    file_path = os.path.join(original_path, file_name)\n",
        "\n",
        "    # 파일 확장자 확인 : csv\n",
        "    if file_path.endswith('.csv'):\n",
        "        # 데이터 불러오기\n",
        "        print(\"file_path: %s\" % file_path)\n",
        "        data = pd.read_csv(file_path)\n",
        "\n",
        "        # 열 제거\n",
        "        columns_to_drop = ['BT', 'BY', 'BZ', 'BX', 'Timestamp']\n",
        "        data.drop(columns=columns_to_drop, inplace=True)\n",
        "\n",
        "        # 열 삭제 조건 확인\n",
        "        # mac 주소가 아닌 다른 값이 각 열의 첫번째 행에 위치한 경우 해당 열 삭제\n",
        "        columns_to_drop = []\n",
        "        for column in data.columns:\n",
        "            first_value = data[column].iloc[0]\n",
        "            if first_value <= -90:\n",
        "                columns_to_drop.append(column)\n",
        "\n",
        "        # 열 제거\n",
        "        data.drop(columns=columns_to_drop, inplace=True)\n",
        "\n",
        "        # 결과 파일 경로 생성\n",
        "        temp_file_path = os.path.join(temp_folder, file_name)\n",
        "\n",
        "        # 전처리된 데이터 저장\n",
        "        data.to_csv(temp_file_path, index=False)\n",
        "\n",
        "        print(f'{file_name} 전처리 완료. 저장 경로: {temp_file_path}')"
      ]
    },
    {
      "cell_type": "markdown",
      "id": "a6dbbab9",
      "metadata": {
        "id": "a6dbbab9"
      },
      "source": [
        "### 전처리가 완료된 데이터 셋에 대해 이동 평균 필터 적용"
      ]
    },
    {
      "cell_type": "code",
      "execution_count": 113,
      "id": "07d92a73",
      "metadata": {
        "id": "07d92a73",
        "outputId": "7c2fc026-b25c-485c-8360-0e9dbd2e8748",
        "colab": {
          "base_uri": "https://localhost:8080/"
        }
      },
      "outputs": [
        {
          "output_type": "stream",
          "name": "stdout",
          "text": [
            "/content/drive/MyDrive/2023_CD/[자료] Wi-Fi/Collected Data/230916 8th/Online Data/Moving Avg Filter_BF 5/neg/temp/0.625,-34.2.csv 진행 중...\n",
            "0.625,-34.2.csv 전처리 완료. 저장 경로: /content/drive/MyDrive/2023_CD/[자료] Wi-Fi/Collected Data/230916 8th/Online Data/Moving Avg Filter_BF 5/neg/Filtered Data/0.625,-34.2.csv\n",
            "/content/drive/MyDrive/2023_CD/[자료] Wi-Fi/Collected Data/230916 8th/Online Data/Moving Avg Filter_BF 5/neg/temp/0.625,-30.8.csv 진행 중...\n",
            "0.625,-30.8.csv 전처리 완료. 저장 경로: /content/drive/MyDrive/2023_CD/[자료] Wi-Fi/Collected Data/230916 8th/Online Data/Moving Avg Filter_BF 5/neg/Filtered Data/0.625,-30.8.csv\n",
            "/content/drive/MyDrive/2023_CD/[자료] Wi-Fi/Collected Data/230916 8th/Online Data/Moving Avg Filter_BF 5/neg/temp/0.625,-22.csv 진행 중...\n",
            "0.625,-22.csv 전처리 완료. 저장 경로: /content/drive/MyDrive/2023_CD/[자료] Wi-Fi/Collected Data/230916 8th/Online Data/Moving Avg Filter_BF 5/neg/Filtered Data/0.625,-22.csv\n",
            "/content/drive/MyDrive/2023_CD/[자료] Wi-Fi/Collected Data/230916 8th/Online Data/Moving Avg Filter_BF 5/neg/temp/0.625,-36.5.csv 진행 중...\n",
            "0.625,-36.5.csv 전처리 완료. 저장 경로: /content/drive/MyDrive/2023_CD/[자료] Wi-Fi/Collected Data/230916 8th/Online Data/Moving Avg Filter_BF 5/neg/Filtered Data/0.625,-36.5.csv\n",
            "/content/drive/MyDrive/2023_CD/[자료] Wi-Fi/Collected Data/230916 8th/Online Data/Moving Avg Filter_BF 5/neg/temp/0.625,-24.csv 진행 중...\n",
            "0.625,-24.csv 전처리 완료. 저장 경로: /content/drive/MyDrive/2023_CD/[자료] Wi-Fi/Collected Data/230916 8th/Online Data/Moving Avg Filter_BF 5/neg/Filtered Data/0.625,-24.csv\n",
            "/content/drive/MyDrive/2023_CD/[자료] Wi-Fi/Collected Data/230916 8th/Online Data/Moving Avg Filter_BF 5/neg/temp/0.625,-27.2.csv 진행 중...\n",
            "0.625,-27.2.csv 전처리 완료. 저장 경로: /content/drive/MyDrive/2023_CD/[자료] Wi-Fi/Collected Data/230916 8th/Online Data/Moving Avg Filter_BF 5/neg/Filtered Data/0.625,-27.2.csv\n",
            "/content/drive/MyDrive/2023_CD/[자료] Wi-Fi/Collected Data/230916 8th/Online Data/Moving Avg Filter_BF 5/neg/temp/0.625,-18.csv 진행 중...\n",
            "0.625,-18.csv 전처리 완료. 저장 경로: /content/drive/MyDrive/2023_CD/[자료] Wi-Fi/Collected Data/230916 8th/Online Data/Moving Avg Filter_BF 5/neg/Filtered Data/0.625,-18.csv\n",
            "/content/drive/MyDrive/2023_CD/[자료] Wi-Fi/Collected Data/230916 8th/Online Data/Moving Avg Filter_BF 5/neg/temp/0.625,-10.csv 진행 중...\n",
            "0.625,-10.csv 전처리 완료. 저장 경로: /content/drive/MyDrive/2023_CD/[자료] Wi-Fi/Collected Data/230916 8th/Online Data/Moving Avg Filter_BF 5/neg/Filtered Data/0.625,-10.csv\n",
            "/content/drive/MyDrive/2023_CD/[자료] Wi-Fi/Collected Data/230916 8th/Online Data/Moving Avg Filter_BF 5/neg/temp/0.625,-13.8.csv 진행 중...\n",
            "0.625,-13.8.csv 전처리 완료. 저장 경로: /content/drive/MyDrive/2023_CD/[자료] Wi-Fi/Collected Data/230916 8th/Online Data/Moving Avg Filter_BF 5/neg/Filtered Data/0.625,-13.8.csv\n",
            "/content/drive/MyDrive/2023_CD/[자료] Wi-Fi/Collected Data/230916 8th/Online Data/Moving Avg Filter_BF 5/neg/temp/0.625,-7.csv 진행 중...\n",
            "0.625,-7.csv 전처리 완료. 저장 경로: /content/drive/MyDrive/2023_CD/[자료] Wi-Fi/Collected Data/230916 8th/Online Data/Moving Avg Filter_BF 5/neg/Filtered Data/0.625,-7.csv\n"
          ]
        }
      ],
      "source": [
        "#temp_folder = temp_folder = path + 'Moving Avg Filter_BF ' + buffer + '/temp/'  # 중간과정을 저장할 폴더 경로\n",
        "temp_folder = path + 'Moving Avg Filter_BF ' + buffer + sign + '/temp/'  # 중간과정을 저장할 폴더 경로\n",
        "#filtered_folder = path + 'Moving Avg Filter_BF ' + buffer + '/Filtered Data/'    # 이동 평균 필터 데이터가 저장될 파일\n",
        "filtered_folder = path + 'Moving Avg Filter_BF ' + buffer + sign + '/Filtered Data/'    # 이동 평균 필터 데이터가 저장될 파일\n",
        "\n",
        "# 중간과정을 저장할 폴더가 없으면 생성\n",
        "if not os.path.exists(filtered_folder):\n",
        "    os.makedirs(filtered_folder)\n",
        "\n",
        "#폴더 안의 모든 파일에 대해 전처리 수행 및 저장\n",
        "for file_name in os.listdir(temp_folder):\n",
        "    # 파일 경로 생성\n",
        "    file_path = os.path.join(temp_folder, file_name)\n",
        "\n",
        "    # 파일 확장자 확인 (예: csv 파일)\n",
        "    if file_path.endswith('.csv'):\n",
        "        # 데이터 불러오기\n",
        "        print(file_path + \" 진행 중...\")\n",
        "        data = pd.read_csv(file_path)\n",
        "\n",
        "        # 이동 평균 필터 적용\n",
        "        filtered_data = data.copy()\n",
        "        for column in data.columns:\n",
        "            filtered_data[column] = data[column].rolling(window=5, min_periods=1).mean()\n",
        "\n",
        "        # 결과 파일 경로 생성\n",
        "        filtered_file_path = os.path.join(filtered_folder, file_name)\n",
        "\n",
        "        # 전처리된 데이터 저장\n",
        "        filtered_data.to_csv(filtered_file_path, index=False)\n",
        "\n",
        "        print(f'{file_name} 전처리 완료. 저장 경로: {filtered_file_path}')"
      ]
    },
    {
      "cell_type": "markdown",
      "id": "c5ea73dc",
      "metadata": {
        "id": "c5ea73dc"
      },
      "source": [
        "### 오리지널데이터와 이동평균필터데이터 값 비교"
      ]
    },
    {
      "cell_type": "code",
      "execution_count": 114,
      "id": "c90a5e18",
      "metadata": {
        "id": "c90a5e18",
        "outputId": "460da221-1baa-49df-b868-5ce99f79da0d",
        "colab": {
          "base_uri": "https://localhost:8080/",
          "height": 0
        }
      },
      "outputs": [
        {
          "output_type": "display_data",
          "data": {
            "text/plain": [
              "<Figure size 640x480 with 1 Axes>"
            ],
            "image/png": "[encoded data removed]"
          },
          "metadata": {}
        }
      ],
      "source": [
        "# 전처리 이후 temp 파일과 data 파일의 경로 설정\n",
        "#temp_forder_path = temp_folder = path + 'Moving Avg Filter_BF ' + buffer + '/temp/'  # 중간과정을 저장할 폴더 경로\n",
        "temp_forder_path = path + 'Moving Avg Filter_BF ' + buffer + sign + '/temp/'  # 중간과정을 저장할 폴더 경로\n",
        "\n",
        "#filtered_forder_path = path + 'Moving Avg Filter_BF ' + buffer + '/Filtered Data/'    # 이동 평균 필터 데이터가 저장될 파일\n",
        "filtered_forder_path = path + 'Moving Avg Filter_BF ' + buffer + sign + '/Filtered Data/'    # 이동 평균 필터 데이터가 저장될 파일\n",
        "\n",
        "def read_first_csv_file():\n",
        "    temp_files = os.listdir(temp_forder_path)\n",
        "    temp_file_path = os.path.join(temp_forder_path, temp_files[0])\n",
        "    temp_file = pd.read_csv(temp_file_path)\n",
        "\n",
        "    files = os.listdir(filtered_forder_path)\n",
        "    filtered_files = [file for file in files if file.endswith('.csv')]\n",
        "    filtered_file_path = os.path.join(filtered_forder_path, filtered_files[0])\n",
        "    filtered_file = pd.read_csv(filtered_file_path)\n",
        "\n",
        "    compare(temp_file, filtered_file)\n",
        "\n",
        "def compare(temp_file, filtered_file):\n",
        "  column = 14 # 비교하고싶은 열\n",
        "\n",
        "  # temp 파일에서 데이터 가져오기\n",
        "  temp_data = temp_file\n",
        "  temp_column = temp_data.iloc[1:, column]  # 해당 열, 두 번째 행부터의 값\n",
        "\n",
        "  # filtered 파일에서 데이터 가져오기\n",
        "  filtered_data = filtered_file\n",
        "  filtered_column = filtered_data.iloc[1:, column]  # 해당 열, 두 번째 행부터의 값\n",
        "\n",
        "  # 그래프 그리기\n",
        "  plt.plot(temp_column, color='black', label='Original')\n",
        "  plt.plot(filtered_column, color='red', label='Filtered Data')\n",
        "  plt.xlabel('sample number')\n",
        "  plt.ylabel('RSS')\n",
        "  plt.title('Moving average filter')\n",
        "  plt.legend()\n",
        "  plt.show()\n",
        "\n",
        "read_first_csv_file()"
      ]
    },
    {
      "cell_type": "markdown",
      "id": "89c780f4",
      "metadata": {
        "id": "89c780f4"
      },
      "source": [
        "### 이동평균필터 데이터의 값을 각 열의 평균을 기준으로 높은 순 정렬"
      ]
    },
    {
      "cell_type": "code",
      "execution_count": 115,
      "id": "000ce5a8",
      "metadata": {
        "id": "000ce5a8",
        "outputId": "7a7ee716-5b85-4c58-8d3d-a48ad9c36485",
        "colab": {
          "base_uri": "https://localhost:8080/"
        }
      },
      "outputs": [
        {
          "output_type": "stream",
          "name": "stdout",
          "text": [
            "0.625,-34.2.csv 정렬 완료. 저장 경로: /content/drive/MyDrive/2023_CD/[자료] Wi-Fi/Collected Data/230916 8th/Online Data/Moving Avg Filter_BF 5/neg/Sorted Data/0.625,-34.2.csv\n",
            "0.625,-30.8.csv 정렬 완료. 저장 경로: /content/drive/MyDrive/2023_CD/[자료] Wi-Fi/Collected Data/230916 8th/Online Data/Moving Avg Filter_BF 5/neg/Sorted Data/0.625,-30.8.csv\n",
            "0.625,-22.csv 정렬 완료. 저장 경로: /content/drive/MyDrive/2023_CD/[자료] Wi-Fi/Collected Data/230916 8th/Online Data/Moving Avg Filter_BF 5/neg/Sorted Data/0.625,-22.csv\n",
            "0.625,-36.5.csv 정렬 완료. 저장 경로: /content/drive/MyDrive/2023_CD/[자료] Wi-Fi/Collected Data/230916 8th/Online Data/Moving Avg Filter_BF 5/neg/Sorted Data/0.625,-36.5.csv\n",
            "0.625,-24.csv 정렬 완료. 저장 경로: /content/drive/MyDrive/2023_CD/[자료] Wi-Fi/Collected Data/230916 8th/Online Data/Moving Avg Filter_BF 5/neg/Sorted Data/0.625,-24.csv\n",
            "0.625,-27.2.csv 정렬 완료. 저장 경로: /content/drive/MyDrive/2023_CD/[자료] Wi-Fi/Collected Data/230916 8th/Online Data/Moving Avg Filter_BF 5/neg/Sorted Data/0.625,-27.2.csv\n",
            "0.625,-18.csv 정렬 완료. 저장 경로: /content/drive/MyDrive/2023_CD/[자료] Wi-Fi/Collected Data/230916 8th/Online Data/Moving Avg Filter_BF 5/neg/Sorted Data/0.625,-18.csv\n",
            "0.625,-10.csv 정렬 완료. 저장 경로: /content/drive/MyDrive/2023_CD/[자료] Wi-Fi/Collected Data/230916 8th/Online Data/Moving Avg Filter_BF 5/neg/Sorted Data/0.625,-10.csv\n",
            "0.625,-13.8.csv 정렬 완료. 저장 경로: /content/drive/MyDrive/2023_CD/[자료] Wi-Fi/Collected Data/230916 8th/Online Data/Moving Avg Filter_BF 5/neg/Sorted Data/0.625,-13.8.csv\n",
            "0.625,-7.csv 정렬 완료. 저장 경로: /content/drive/MyDrive/2023_CD/[자료] Wi-Fi/Collected Data/230916 8th/Online Data/Moving Avg Filter_BF 5/neg/Sorted Data/0.625,-7.csv\n"
          ]
        }
      ],
      "source": [
        "# 데이터 폴더 경로 설정\n",
        "#filtered_forder_path = path + 'Moving Avg Filter_BF ' + buffer + '/Filtered Data/'    # 이동 평균 필터 데이터가 저장될 파일\n",
        "filtered_forder_path = path + 'Moving Avg Filter_BF ' + buffer + sign + '/Filtered Data/'    # 이동 평균 필터 데이터가 저장될 파일\n",
        "#sorted_folder_path = path + 'Moving Avg Filter_BF ' + buffer + '/Sorted Data/'  # 정렬된 데이터를 저장할 폴더 경로\n",
        "sorted_folder_path = path + 'Moving Avg Filter_BF ' + buffer + sign + '/Sorted Data/'  # 정렬된 데이터를 저장할 폴더 경로\n",
        "\n",
        "# 결과를 저장할 폴더가 없으면 생성\n",
        "if not os.path.exists(sorted_folder_path):\n",
        "    os.makedirs(sorted_folder_path)\n",
        "\n",
        "# 폴더 안의 모든 파일에 대해 처리 수행\n",
        "for file_name in os.listdir(filtered_forder_path):\n",
        "    # 파일 경로 생성\n",
        "    file_path = os.path.join(filtered_forder_path, file_name)\n",
        "\n",
        "    # 파일 확장자 확인 (예: csv 파일)\n",
        "    if file_path.endswith('.csv'):\n",
        "        # 데이터 불러오기\n",
        "        data = pd.read_csv(file_path)\n",
        "\n",
        "        # 각 열의 평균값 계산\n",
        "        mean_values = data.iloc[1:, :].mean(axis=0)\n",
        "\n",
        "        # 평균값을 기준으로 열 정렬\n",
        "        sorted_columns = mean_values.sort_values(ascending=False).index\n",
        "\n",
        "        # 정렬된 열을 포함한 데이터프레임 생성\n",
        "        sorted_data = data[sorted_columns]\n",
        "\n",
        "        # 결과 파일 경로 생성\n",
        "        output_file_path = os.path.join(sorted_folder_path, f'{file_name}')\n",
        "\n",
        "        # 정렬된 데이터 저장\n",
        "        sorted_data.to_csv(output_file_path, index=False)\n",
        "\n",
        "        print(f'{file_name} 정렬 완료. 저장 경로: {output_file_path}')"
      ]
    }
  ],
  "metadata": {
    "kernelspec": {
      "display_name": "Python 3 (ipykernel)",
      "language": "python",
      "name": "python3"
    },
    "language_info": {
      "codemirror_mode": {
        "name": "ipython",
        "version": 3
      },
      "file_extension": ".py",
      "mimetype": "text/x-python",
      "name": "python",
      "nbconvert_exporter": "python",
      "pygments_lexer": "ipython3",
      "version": "3.9.12"
    },
    "colab": {
      "provenance": [],
      "collapsed_sections": [
        "KRX8vkRPw1R5",
        "hhpReZm4w2Yo",
        "UdsdQqcpIpKe",
        "89c780f4"
      ],
      "include_colab_link": true
    }
  },
  "nbformat": 4,
  "nbformat_minor": 5
}